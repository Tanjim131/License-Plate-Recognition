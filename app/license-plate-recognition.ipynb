{
 "cells": [
  {
   "cell_type": "markdown",
   "metadata": {},
   "source": [
    "# License Plate Recognition using Machine Learning"
   ]
  },
  {
   "cell_type": "markdown",
   "metadata": {},
   "source": [
    "*by Tanjim Bin Faruk, December 12, 2022* "
   ]
  },
  {
   "cell_type": "markdown",
   "metadata": {},
   "source": [
    "## 💻 Introduction"
   ]
  },
  {
   "cell_type": "markdown",
   "metadata": {},
   "source": [
    "When it was time to submit an idea for the CS 545 term project, I had watched [a video on YouTube](https://www.youtube.com/watch?v=4AnyhHl3_tE) around that time. It was about Dashcam footage quality. The video went on to describe how the video quality of every dashcam is subpar, no matter what the cost. It piqued my interest and I decided why not build something that can possibly detect license plate number from dashcam footage.\n",
    "\n",
    "I searched around and found an interesting dataset on Kaggle. I also heard about object detection models in the passing during my undergrad, specifically YOLO models. I decided to use them for this project.\n",
    "\n",
    "I was initially eager to use the CNN model that we built for Assignment $5$, but decided not to go down that path as the accuracy for that model was not that great. I focused on OCRs instead."
   ]
  },
  {
   "cell_type": "markdown",
   "metadata": {},
   "source": [
    "## ⚙️ Methods\n",
    "  "
   ]
  },
  {
   "cell_type": "markdown",
   "metadata": {},
   "source": [
    "### 📂 Dataset\n",
    "\n",
    "I downloaded a public domain dataset from Kaggle [Maranhão, 2019]. The dataset contains $433$ images of license plate, which on the first look, appear to be from a number of different countries. The dataset contained two folders: *Images* and *Annotations*. The *Images* folder contained the *\".jpg\"* files for license plates. For each of the JPG files in the *Images* folder, the *Annotation* folder contained an \"*.xml\"* file. The XML files contained the bounding box coordinates of the license plate in the images.\n",
    "\n",
    "\n",
    "### 🪛 License Plate Detection Algorithm\n",
    "\n",
    "I decided to use YOLOv5 [Jocher, et al., 2020] which is an acronym for 'You only look once'. YOLO is one of the most famous object detection algorithms due to its speed and accuracy. It is a state of the art object detection algorithm that divides images into a grid system. It is a pre-trained model trained on the [MS COCO](https://cocodataset.org/#home) dataset, which includes $80$ categories of object. As the categories of objects did not include license plates, I needed to retrain the model on a custom license plate dataset. As YOLOv5 is a pre-trained model, using transfer learning, it would converge much faster and would have much better accuracy than say a CNN model written from scratch. Using a scratch CNN model would result in a lot of time spent for fine tuning the parametes to arrive at a satisfactory result.\n",
    "\n",
    "### 📥 Data Preprocessing\n",
    "\n",
    "In order to pass my dataset to the YOLOv5 model, I needed to restructure the folder hierarchy for *Images* and *Annotations*. Following [Train Custom Data on YOLOv5](https://github.com/ultralytics/yolov5/wiki/Train-Custom-Data), I first needed to create a `dataset.yaml` file which would contain the directory path for train, validation and test folders as well as key-value pair(s) for each of the classes. As we are only detecting license plates, our `dataset.yaml` would contain only one key-value pair.\n",
    "\n",
    "YOLOv5 requires a label for each images in the form a text document. As our downloaded dataset contains the annotations in XML files, I extracted the bounding box information from XML files and put them in a `labels` directory beside `images` folder.\n",
    "\n",
    "### 📀 Train-Validation-Test Split\n",
    "\n",
    "After restructuring the folders, I partitioned the whole dataset into train, validation and test sets. Initial $80\\%$ data was earmarked for train set. The remaining $20\\%$ was split evenly between the validation and test set.\n",
    "\n",
    "### 📲 YOLOv5 Training\n",
    "\n",
    "To train the model, we need to run the `train.py` file inside `yolov5` directory. There are a number of parameters to specify:\n",
    "\n",
    "```python\n",
    "!cd yolov5-license-plate && python train.py --batch 16 --epochs 50 --data dataset.yml --weights yolov5s.pt --workers 2\n",
    "```\n",
    "\n",
    "- ***Batch size***: I specified the batch size to be $16$. Increasing the batch size to $64$ resulted in exhausting my GPU memory and halting the training process.\n",
    "- ***Epochs***: I decided to go with $50$ epochs as there were quite a few files to be trained on. I assume increasing the number of epochs would lead to a better performance, but there could be diminishing returns.\n",
    "- ***Weights***: There are $4$ models to choose from: `yolo5s` (small), `yolov5m` (medium), `yolov5l` (large) and `yolov5x` (extra large). The size and complexity of these models increases in the ascending order. As my workflow did not require complex setup, I chose `yolov5s`.\n",
    "- ***Workers***: Number of CPU workers. I specified it to be $2$.\n",
    "\n",
    "Apart from these parameters, there are two other important files. One is used for the specifying the model architecture and the other can be used to fine tune the hyper-parameters.\n",
    "\n",
    "Under `yolov5 > models` directory, the `yolov5s.yaml` contains the following architecture:\n",
    "\n",
    "```yaml\n",
    "# Parameters\n",
    "nc: 80  # number of classes\n",
    "depth_multiple: 0.33  # model depth multiple\n",
    "width_multiple: 0.50  # layer channel multiple\n",
    "anchors:\n",
    "  - [10,13, 16,30, 33,23]  # P3/8\n",
    "  - [30,61, 62,45, 59,119]  # P4/16\n",
    "  - [116,90, 156,198, 373,326]  # P5/32\n",
    "\n",
    "# YOLOv5 v6.0 backbone\n",
    "backbone:\n",
    "  # [from, number, module, args]\n",
    "  [[-1, 1, Conv, [64, 6, 2, 2]],  # 0-P1/2\n",
    "   [-1, 1, Conv, [128, 3, 2]],  # 1-P2/4\n",
    "   [-1, 3, C3, [128]],\n",
    "   [-1, 1, Conv, [256, 3, 2]],  # 3-P3/8\n",
    "   [-1, 6, C3, [256]],\n",
    "   [-1, 1, Conv, [512, 3, 2]],  # 5-P4/16\n",
    "   [-1, 9, C3, [512]],\n",
    "   [-1, 1, Conv, [1024, 3, 2]],  # 7-P5/32\n",
    "   [-1, 3, C3, [1024]],\n",
    "   [-1, 1, SPPF, [1024, 5]],  # 9\n",
    "  ]\n",
    "\n",
    "# YOLOv5 v6.0 head\n",
    "head:\n",
    "  [[-1, 1, Conv, [512, 1, 1]],\n",
    "   [-1, 1, nn.Upsample, [None, 2, 'nearest']],\n",
    "   [[-1, 6], 1, Concat, [1]],  # cat backbone P4\n",
    "   [-1, 3, C3, [512, False]],  # 13\n",
    "\n",
    "   [-1, 1, Conv, [256, 1, 1]],\n",
    "   [-1, 1, nn.Upsample, [None, 2, 'nearest']],\n",
    "   [[-1, 4], 1, Concat, [1]],  # cat backbone P3\n",
    "   [-1, 3, C3, [256, False]],  # 17 (P3/8-small)\n",
    "\n",
    "   [-1, 1, Conv, [256, 3, 2]],\n",
    "   [[-1, 14], 1, Concat, [1]],  # cat head P4\n",
    "   [-1, 3, C3, [512, False]],  # 20 (P4/16-medium)\n",
    "\n",
    "   [-1, 1, Conv, [512, 3, 2]],\n",
    "   [[-1, 10], 1, Concat, [1]],  # cat head P5\n",
    "   [-1, 3, C3, [1024, False]],  # 23 (P5/32-large)\n",
    "\n",
    "   [[17, 20, 23], 1, Detect, [nc, anchors]],  # Detect(P3, P4, P5)\n",
    "  ]\n",
    "\n",
    "```\n",
    "\n",
    "Inside the YAML file, $3$ subdivisions are noticed: Anchors, Backbone, and Head. According to [Anchor Boxes for Object Detection](https://www.mathworks.com/help/vision/ug/anchor-boxes-for-object-detection.html):\n",
    "\n",
    "> Anchor boxes are a set of predefined bounding boxes of a certain height and width. These boxes are defined to capture the scale and aspect ratio of specific object classes you want to detect and are typically chosen based on object sizes in your training datasets.\n",
    "\n",
    "The Backbone part mainly consists of Convolutional Neural Network, C3 (Concentrated-Comprehensive Convolution), and SPPF (Spatial Pixel Pair Features) modules for feature extraction. The Head network performs target prediction and passes the predicted output. \n",
    "\n",
    "Under `yolov5 > data > hyps` directory, `hyp.scratch-med.yaml` contains the following:\n",
    "\n",
    "```yaml\n",
    "lr0: 0.01  # initial learning rate (SGD=1E-2, Adam=1E-3)\n",
    "lrf: 0.1  # final OneCycleLR learning rate (lr0 * lrf)\n",
    "momentum: 0.937  # SGD momentum/Adam beta1\n",
    "weight_decay: 0.0005  # optimizer weight decay 5e-4\n",
    "warmup_epochs: 3.0  # warmup epochs (fractions ok)\n",
    "warmup_momentum: 0.8  # warmup initial momentum\n",
    "warmup_bias_lr: 0.1  # warmup initial bias lr\n",
    "box: 0.05  # box loss gain\n",
    "cls: 0.3  # cls loss gain\n",
    "cls_pw: 1.0  # cls BCELoss positive_weight\n",
    "obj: 0.7  # obj loss gain (scale with pixels)\n",
    "obj_pw: 1.0  # obj BCELoss positive_weight\n",
    "iou_t: 0.20  # IoU training threshold\n",
    "anchor_t: 4.0  # anchor-multiple threshold\n",
    "# anchors: 3  # anchors per output layer (0 to ignore)\n",
    "fl_gamma: 0.0  # focal loss gamma (efficientDet default gamma=1.5)\n",
    "hsv_h: 0.015  # image HSV-Hue augmentation (fraction)\n",
    "hsv_s: 0.7  # image HSV-Saturation augmentation (fraction)\n",
    "hsv_v: 0.4  # image HSV-Value augmentation (fraction)\n",
    "degrees: 0.0  # image rotation (+/- deg)\n",
    "translate: 0.1  # image translation (+/- fraction)\n",
    "scale: 0.9  # image scale (+/- gain)\n",
    "shear: 0.0  # image shear (+/- deg)\n",
    "perspective: 0.0  # image perspective (+/- fraction), range 0-0.001\n",
    "flipud: 0.0  # image flip up-down (probability)\n",
    "fliplr: 0.5  # image flip left-right (probability)\n",
    "mosaic: 1.0  # image mosaic (probability)\n",
    "mixup: 0.1  # image mixup (probability)\n",
    "copy_paste: 0.0  # segment copy-paste (probability)\n",
    "```\n",
    "\n",
    "The hyperparameter config file contains quite a few important fields such as:\n",
    "\n",
    "- Learning Rate\n",
    "- Momentum\n",
    "- Weight Decay\n",
    "- Parameters for Box Loss (Mean Squared Error), Objective Loss (Binary Cross Entropy) and Class Loss (Cross Entropy)\n",
    "- Hue, Saturation, Value parameters\n",
    "- Scale, Rotation and Translation parameters\n",
    "\n",
    "\n",
    "### 📑 Text Extraction\n",
    "\n",
    "Given a picture, our trained YOLOv5 model narrows down to a region of interest (ROI) that likely contains the license plate. I thought of two ways to extract the text: one with Segmented Characters and the other with Whole Image.\n",
    "\n",
    "#### 📥 Image Preprocessing\n",
    "\n",
    "Before passing the image through an OCR, I preprocessed the image. First I converted the image to Grayscale. Then, I passed it through a Bilateral Filter to reduce the noise. I also inverted the image and applied thresholding to have white text on black background.\n",
    "\n",
    "#### 📋 Optical Character Recognition (OCR)\n",
    "\n",
    "In order to obtain the license plate number as text, I employed OCR techniques. I decided to use `easyocr` module for this, which is a lightweight and efficient OCR. I also played around with `pytesseract`, but found EasyOCR's performance much better.\n",
    "\n",
    "#### 📷 Character Segmentation with Contour Detection\n",
    "\n",
    "After finding a ROI from YOLOv5 model, I passed the ROI through EasyOCR for a first pass, to focus on a large block of text in the middle of the image. The result was that it further narrowed down the initial ROI. After that, I did contour detection to extract individual characters as images. Finally, I did a second pass through EasyOCR on these images to figure out the character and concatenate them.\n",
    "\n",
    "#### 💡Whole Image Detection\n",
    "\n",
    "Unlike character segmentation, I only did one single pass to extract the text."
   ]
  },
  {
   "cell_type": "markdown",
   "metadata": {},
   "source": [
    "## 🚩 Results"
   ]
  },
  {
   "cell_type": "markdown",
   "metadata": {},
   "source": [
    "The information for each training is saved under `yolov5 > runs > train > exp` directory. After the training was completed, a bunch of graphs were generated and by looking at them I could tell that the model training went well.\n",
    "\n",
    "### 📌 Precision-Recall Curve\n",
    "\n",
    "According to [Precision-Recall Curves by Doug Steen](https://medium.com/@douglaspsteen/precision-recall-curves-d32e5b290248), the performance of PR curves can be compared in the following way:\n",
    "\n",
    "[<img alt = \"PR Curve Performance\" src=\"https://miro.medium.com/max/720/1*6QPLsDvjo4H6OZrxEBI8Fg.webp\">]\n",
    "\n",
    "The following graph shows that our trained model nearly reached the perfect classifier performance.\n",
    "\n",
    "[<img alt = \"Precision-Recall Curve\" src=\"yolov5-license-plate/runs/train/exp/PR_curve.png\" width = 1000/>](yolov5-license-plate/runs/train/exp/PR_curve.png)\n",
    "\n",
    "### 📌 F1 Curve\n",
    "\n",
    "Our model achieved a higher F1 score (closer to 1), which correlates to better performance.\n",
    "\n",
    "[<img alt = \"F1 Curve\" src=\"yolov5-license-plate/runs/train/exp/F1_curve.png\" width = 1000/>](yolov5-license-plate/runs/train/exp/PR_curve.png)\n",
    "\n",
    "### 📌 Metrics\n",
    "\n",
    "The following graph shows that the `box_loss` and `obj_loss` decreased with each iteration. The `cls_loss` is $0$ because there is no misclassification (as there is only one class).\n",
    "\n",
    "[<img alt = \"F1 Curve\" src=\"yolov5-license-plate/runs/train/exp/results.png\" width = 1000/>](yolov5-license-plate/runs/train/exp/results.png)\n",
    "\n",
    "### 📌 Prediction Results\n",
    "\n",
    "Let's take an example image from the test set.\n",
    "\n",
    "[<img alt = \"Test Image\" src=\"sample-test-car.png\">](sample-test-car.png)\n",
    "\n",
    "The model successfully narrowed down to the ROI.\n",
    "\n",
    "[<img alt = \"Test Image\" src=\"roi-sample.jpg\">](roi-sample.jpg)\n",
    "\n",
    "The OCR then further narrowed down the initial ROI.\n",
    "\n",
    "[<img alt = \"Test Image\" src=\"narrowed-down-roi-sample.jpg\">](narrowed-down-roi-sample.jpg)\n",
    "\n",
    "Which is quite hard to see so let's use Matplotlib."
   ]
  },
  {
   "cell_type": "code",
   "execution_count": 1,
   "metadata": {},
   "outputs": [
    {
     "data": {
      "text/plain": [
       "<matplotlib.image.AxesImage at 0x1fef10583a0>"
      ]
     },
     "execution_count": 1,
     "metadata": {},
     "output_type": "execute_result"
    },
    {
     "data": {
      "image/png": "[encoded data removed]",
      "text/plain": [
       "<Figure size 640x480 with 1 Axes>"
      ]
     },
     "metadata": {},
     "output_type": "display_data"
    }
   ],
   "source": [
    "from matplotlib import pyplot as plt\n",
    "import cv2\n",
    "%matplotlib inline\n",
    "\n",
    "_image = cv2.imread(os.path.join('narrowed-down-roi-sample.jpg'))\n",
    "plt.imshow(_image, cmap='gray')"
   ]
  },
  {
   "cell_type": "markdown",
   "metadata": {},
   "source": [
    "Finally, passing this image to OCR extracts the license plate number as text (***VIPER*** in this case) which is saved to a CSV file."
   ]
  },
  {
   "cell_type": "markdown",
   "metadata": {},
   "source": [
    "## 🔖 Conclusions"
   ]
  },
  {
   "cell_type": "markdown",
   "metadata": {},
   "source": [
    "Before starting this project, I had only a vague idea about object detection models. I learned a great deal about object detection models and OCR in general. Preparing the data in the required format to pass it to the YOLOv5 model was another learning experience.\n",
    "\n",
    "The most difficult part was surprisingly the text extraction. Initially, I was under the impression that narrowing down to the license plate region would be hard and subsequent text extraction would be easy. It turned out to be exactly the opposite. I had play around quite a while to figure out how to extract the text. I tried a bunch of approaches:\n",
    "\n",
    "- Train a CNN on EMNIST dataset. It did not work out as expected possibly because the EMNIST dataset is mostly handwritten data but license plate characters are not.\n",
    "- Image Preprocessing was another difficult task. I had to tune the parameters in such a way so that the preprocessed image would be suitable for contour detection.\n",
    "- Detecting the contours took a long time. Primarily because I had to figure out how to focus on the core area on the license plate, ignoring all other contour noises.\n",
    "- Finally, even though the preprocessed segmented characters were quite legible, OCRs had a tough time recognizing them. I am not sure why but maybe a CNN would be better fitted for this task. I ran out of time for experiments but plan tweak this in the future."
   ]
  },
  {
   "cell_type": "markdown",
   "metadata": {},
   "source": [
    "###  📖 References"
   ]
  },
  {
   "cell_type": "markdown",
   "metadata": {},
   "source": [
    "* [Jocher, et al., 2020] Glenn Jocher; Ayush Chaurasia; Alex Stoken; Jirka Borovec; NanoCode012; Yonghye Kwon; Kalen Michael; TaoXie; Jiacong Fang; imyhxy; Lorna; 曾逸夫(Zeng Yifu); Colin Wong; Abhiram V; Diego Montes; Zhiqiang Wang; Cristi Fati; Jebastin Nadar; Laughing; UnglvKitDe; Victor Sonck; tkianai; yxNONG; Piotr Skalski; Adam Hogan; Dhruv Nair; Max Strobel; Mrinal Jain, [YOLOv5 SOTA Realtime Instance Segmentation](https://github.com/ultralytics/yolov5), Zenodo, 2020"
   ]
  },
  {
   "cell_type": "code",
   "execution_count": 1,
   "metadata": {
    "ExecuteTime": {
     "end_time": "2022-10-11T20:24:09.713104Z",
     "start_time": "2022-10-11T20:24:09.678375Z"
    }
   },
   "outputs": [
    {
     "name": "stdout",
     "output_type": "stream",
     "text": [
      "Word count for file Faruk-Project-Report.ipynb is 2146\n"
     ]
    }
   ],
   "source": [
    "import io\n",
    "import nbformat\n",
    "import glob\n",
    "nbfile = glob.glob('Faruk-Project-Report.ipynb')\n",
    "if len(nbfile) > 1:\n",
    "    print('More than one ipynb file. Using the first one.  nbfile=', nbfile)\n",
    "with io.open(nbfile[0], 'r', encoding='utf-8') as f:\n",
    "    nb = nbformat.read(f, nbformat.NO_CONVERT)\n",
    "word_count = 0\n",
    "for cell in nb.cells:\n",
    "    if cell.cell_type == \"markdown\":\n",
    "        word_count += len(cell['source'].replace('#', '').lstrip().split(' '))\n",
    "print('Word count for file', nbfile[0], 'is', word_count)"
   ]
  },
  {
   "cell_type": "code",
   "execution_count": 2,
   "metadata": {},
   "outputs": [],
   "source": [
    "import os\n",
    "\n",
    "IMAGES_PATH = os.path.join('data', 'images')\n",
    "ANNOTATIONS_PATH = os.path.join('data', 'annotations')\n",
    "TRAIN_FOLDER = os.path.join('data', 'train')\n",
    "VALIDATION_FOLDER = os.path.join('data', 'validation')\n",
    "TEST_FOLDER = os.path.join('data', 'test')"
   ]
  },
  {
   "cell_type": "code",
   "execution_count": null,
   "metadata": {},
   "outputs": [],
   "source": [
    "if not os.path.exists(TRAIN_FOLDER):\n",
    "    os.makedirs(TRAIN_FOLDER)\n",
    "\n",
    "if not os.path.exists(VALIDATION_FOLDER):\n",
    "    os.makedirs(VALIDATION_FOLDER)\n",
    "\n",
    "if not os.path.exists(TEST_FOLDER):\n",
    "    os.makedirs(TEST_FOLDER)\n",
    "\n",
    "if not os.path.exists(f'{TRAIN_FOLDER}\\images'):\n",
    "    os.makedirs(f'{TRAIN_FOLDER}\\images')\n",
    "\n",
    "if not os.path.exists(f'{TRAIN_FOLDER}\\labels'):\n",
    "    os.makedirs(f'{TRAIN_FOLDER}\\labels')\n",
    "\n",
    "if not os.path.exists(f'{VALIDATION_FOLDER}\\images'):\n",
    "    os.makedirs(f'{VALIDATION_FOLDER}\\images')\n",
    "\n",
    "if not os.path.exists(f'{VALIDATION_FOLDER}\\labels'):\n",
    "    os.makedirs(f'{VALIDATION_FOLDER}\\labels')\n",
    "\n",
    "if not os.path.exists(os.path.join(TEST_FOLDER, 'images')):\n",
    "    os.makedirs(os.path.join(TEST_FOLDER, 'images'))\n",
    "\n",
    "if not os.path.exists(os.path.join(TEST_FOLDER, 'labels')):\n",
    "    os.makedirs(os.path.join(TEST_FOLDER, 'labels'))"
   ]
  },
  {
   "cell_type": "code",
   "execution_count": null,
   "metadata": {},
   "outputs": [],
   "source": [
    "import kaggle"
   ]
  },
  {
   "cell_type": "code",
   "execution_count": null,
   "metadata": {},
   "outputs": [],
   "source": [
    "!cd data & kaggle datasets download -d andrewmvd/car-plate-detection"
   ]
  },
  {
   "cell_type": "code",
   "execution_count": null,
   "metadata": {},
   "outputs": [],
   "source": [
    "import shutil\n",
    "\n",
    "zipped_file = os.path.join('data', 'car-plate-detection.zip')\n",
    "\n",
    "shutil.unpack_archive(zipped_file, os.path.join('data'))\n",
    "os.remove(zipped_file)"
   ]
  },
  {
   "cell_type": "code",
   "execution_count": null,
   "metadata": {},
   "outputs": [],
   "source": [
    "labels_dict = {'licence': 0}"
   ]
  },
  {
   "cell_type": "code",
   "execution_count": null,
   "metadata": {},
   "outputs": [],
   "source": [
    "image_files = [f for f in os.listdir(IMAGES_PATH) if os.path.isfile(f'{IMAGES_PATH}\\{f}')]\n",
    "annotation_files = [f for f in os.listdir(ANNOTATIONS_PATH) if os.path.isfile(f'{ANNOTATIONS_PATH}\\{f}')]"
   ]
  },
  {
   "cell_type": "code",
   "execution_count": null,
   "metadata": {},
   "outputs": [],
   "source": [
    "from sklearn.model_selection import train_test_split\n",
    "\n",
    "image_files_train, image_files_rem, annotation_files_train, annotation_files_rem = train_test_split(image_files, annotation_files, train_size=0.8)"
   ]
  },
  {
   "cell_type": "code",
   "execution_count": null,
   "metadata": {},
   "outputs": [],
   "source": [
    "image_files_validation, image_files_test, annotation_files_validation, annotation_files_test = train_test_split(image_files_rem, annotation_files_rem, train_size=0.5)"
   ]
  },
  {
   "cell_type": "code",
   "execution_count": null,
   "metadata": {},
   "outputs": [],
   "source": [
    "from pathlib import Path\n",
    "\n",
    "for (image_file_train, annotation_file_train) in zip(image_files_train, annotation_files_train):\n",
    "    image_file_train_path = f'{IMAGES_PATH}\\{image_file_train}'\n",
    "    annotation_file_train_path = f'{ANNOTATIONS_PATH}\\{annotation_file_train}'\n",
    "    Path(f'{image_file_train_path}').rename(f'{TRAIN_FOLDER}\\images\\{image_file_train}')\n",
    "    Path(f'{annotation_file_train_path}').rename(f'{TRAIN_FOLDER}\\labels\\{annotation_file_train}')"
   ]
  },
  {
   "cell_type": "code",
   "execution_count": null,
   "metadata": {},
   "outputs": [],
   "source": [
    "for (image_file_validation, annotation_file_validation) in zip(image_files_validation, annotation_files_validation):\n",
    "    image_file_validation_path = f'{IMAGES_PATH}\\{image_file_validation}'\n",
    "    annotation_file_validation_path = f'{ANNOTATIONS_PATH}\\{annotation_file_validation}'\n",
    "    Path(f'{image_file_validation_path}').rename(f'{VALIDATION_FOLDER}\\images\\{image_file_validation}')\n",
    "    Path(f'{annotation_file_validation_path}').rename(f'{VALIDATION_FOLDER}\\labels\\{annotation_file_validation}')"
   ]
  },
  {
   "cell_type": "code",
   "execution_count": null,
   "metadata": {},
   "outputs": [],
   "source": [
    "for (image_file_test, annotation_file_test) in zip(image_files_test, annotation_files_test):\n",
    "    image_file_test_path = f'{IMAGES_PATH}\\{image_file_test}'\n",
    "    annotation_file_test_path = f'{ANNOTATIONS_PATH}\\{annotation_file_test}'\n",
    "    Path(f'{image_file_test_path}').rename(f'{TEST_FOLDER}\\images\\{image_file_test}')\n",
    "    Path(f'{annotation_file_test_path}').rename(f'{TEST_FOLDER}\\labels\\{annotation_file_test}')"
   ]
  },
  {
   "cell_type": "code",
   "execution_count": null,
   "metadata": {},
   "outputs": [],
   "source": [
    "os.rmdir(IMAGES_PATH)\n",
    "os.rmdir(ANNOTATIONS_PATH)"
   ]
  },
  {
   "cell_type": "code",
   "execution_count": null,
   "metadata": {},
   "outputs": [],
   "source": [
    "import xml.etree.ElementTree as etree\n",
    "\n",
    "for annotation_file_train in annotation_files_train:\n",
    "    tree = etree.parse(os.path.join(TRAIN_FOLDER, 'labels', annotation_file_train))\n",
    "    file_name = Path(os.path.join(TRAIN_FOLDER, 'labels', annotation_file_train)).stem\n",
    "\n",
    "    image_width = int(tree.getroot().find('size').find('width').text)\n",
    "    image_height = int(tree.getroot().find('size').find('height').text)\n",
    "    \n",
    "    name = tree.getroot().find('object').find('name').text\n",
    "    object_class = labels_dict[name]\n",
    "    \n",
    "    bbox_xmin = int(tree.getroot().find('object').find('bndbox').find('xmin').text)\n",
    "    bbox_ymin = int(tree.getroot().find('object').find('bndbox').find('ymin').text)\n",
    "    bbox_xmax = int(tree.getroot().find('object').find('bndbox').find('xmax').text)\n",
    "    bbox_ymax = int(tree.getroot().find('object').find('bndbox').find('ymax').text)\n",
    "\n",
    "    bbox_x_center = (bbox_xmin + bbox_xmax) / 2\n",
    "    bbox_y_center = (bbox_ymin + bbox_ymax) / 2\n",
    "    bbox_width = bbox_xmax - bbox_xmin\n",
    "    bbox_height = bbox_ymax - bbox_ymin\n",
    "\n",
    "    normalized_x_center = bbox_x_center / image_width\n",
    "    normalized_y_center = bbox_y_center / image_height\n",
    "\n",
    "    normalized_bbox_width = bbox_width / image_width\n",
    "    normalized_bbox_height = bbox_height / image_height\n",
    "\n",
    "    row_text = f'{object_class} {normalized_x_center} {normalized_y_center} {normalized_bbox_width} {normalized_bbox_height}'\n",
    "\n",
    "    with open(f'{TRAIN_FOLDER}\\labels\\{file_name}.txt', 'w') as label:\n",
    "        label.write(row_text)"
   ]
  },
  {
   "cell_type": "code",
   "execution_count": null,
   "metadata": {},
   "outputs": [],
   "source": [
    "for file in os.listdir(os.path.join(TRAIN_FOLDER, 'labels')):\n",
    "    if Path(file).suffix == '.xml':\n",
    "        os.remove(os.path.join(TRAIN_FOLDER, 'labels', file))"
   ]
  },
  {
   "cell_type": "code",
   "execution_count": null,
   "metadata": {},
   "outputs": [],
   "source": [
    "for annotation_file_validation in annotation_files_validation:\n",
    "    tree = etree.parse(os.path.join(VALIDATION_FOLDER, 'labels', annotation_file_validation))\n",
    "    file_name = Path(os.path.join(VALIDATION_FOLDER, 'labels', annotation_file_validation)).stem\n",
    "\n",
    "    image_width = int(tree.getroot().find('size').find('width').text)\n",
    "    image_height = int(tree.getroot().find('size').find('height').text)\n",
    "    \n",
    "    name = tree.getroot().find('object').find('name').text\n",
    "    object_class = labels_dict[name]\n",
    "    \n",
    "    bbox_xmin = int(tree.getroot().find('object').find('bndbox').find('xmin').text)\n",
    "    bbox_ymin = int(tree.getroot().find('object').find('bndbox').find('ymin').text)\n",
    "    bbox_xmax = int(tree.getroot().find('object').find('bndbox').find('xmax').text)\n",
    "    bbox_ymax = int(tree.getroot().find('object').find('bndbox').find('ymax').text)\n",
    "\n",
    "    bbox_x_center = (bbox_xmin + bbox_xmax) / 2\n",
    "    bbox_y_center = (bbox_ymin + bbox_ymax) / 2\n",
    "    bbox_width = bbox_xmax - bbox_xmin\n",
    "    bbox_height = bbox_ymax - bbox_ymin\n",
    "\n",
    "    normalized_x_center = bbox_x_center / image_width\n",
    "    normalized_y_center = bbox_y_center / image_height\n",
    "\n",
    "    normalized_bbox_width = bbox_width / image_width\n",
    "    normalized_bbox_height = bbox_height / image_height\n",
    "\n",
    "    row_text = f'{object_class} {normalized_x_center} {normalized_y_center} {normalized_bbox_width} {normalized_bbox_height}'\n",
    "\n",
    "    with open(f'{VALIDATION_FOLDER}\\labels\\{file_name}.txt', 'w') as label:\n",
    "        label.write(row_text)"
   ]
  },
  {
   "cell_type": "code",
   "execution_count": null,
   "metadata": {},
   "outputs": [],
   "source": [
    "for file in os.listdir(os.path.join(VALIDATION_FOLDER, 'labels')):\n",
    "    if Path(file).suffix == '.xml':\n",
    "        os.remove(os.path.join(VALIDATION_FOLDER, 'labels', file))"
   ]
  },
  {
   "cell_type": "code",
   "execution_count": null,
   "metadata": {},
   "outputs": [],
   "source": [
    "for annotation_file_test in annotation_files_test:\n",
    "    tree = etree.parse(os.path.join(TEST_FOLDER, 'labels', annotation_file_test))\n",
    "    file_name = Path(os.path.join(TEST_FOLDER, 'labels', annotation_file_test)).stem\n",
    "\n",
    "    image_width = int(tree.getroot().find('size').find('width').text)\n",
    "    image_height = int(tree.getroot().find('size').find('height').text)\n",
    "    \n",
    "    name = tree.getroot().find('object').find('name').text\n",
    "    object_class = labels_dict[name]\n",
    "    \n",
    "    bbox_xmin = int(tree.getroot().find('object').find('bndbox').find('xmin').text)\n",
    "    bbox_ymin = int(tree.getroot().find('object').find('bndbox').find('ymin').text)\n",
    "    bbox_xmax = int(tree.getroot().find('object').find('bndbox').find('xmax').text)\n",
    "    bbox_ymax = int(tree.getroot().find('object').find('bndbox').find('ymax').text)\n",
    "\n",
    "    bbox_x_center = (bbox_xmin + bbox_xmax) / 2\n",
    "    bbox_y_center = (bbox_ymin + bbox_ymax) / 2\n",
    "    bbox_width = bbox_xmax - bbox_xmin\n",
    "    bbox_height = bbox_ymax - bbox_ymin\n",
    "\n",
    "    normalized_x_center = bbox_x_center / image_width\n",
    "    normalized_y_center = bbox_y_center / image_height\n",
    "\n",
    "    normalized_bbox_width = bbox_width / image_width\n",
    "    normalized_bbox_height = bbox_height / image_height\n",
    "\n",
    "    row_text = f'{object_class} {normalized_x_center} {normalized_y_center} {normalized_bbox_width} {normalized_bbox_height}'\n",
    "\n",
    "    with open(f'{TEST_FOLDER}\\labels\\{file_name}.txt', 'w') as label:\n",
    "        label.write(row_text)"
   ]
  },
  {
   "cell_type": "code",
   "execution_count": null,
   "metadata": {},
   "outputs": [],
   "source": [
    "for file in os.listdir(os.path.join(TEST_FOLDER, 'labels')):\n",
    "    if Path(file).suffix == '.xml':\n",
    "        os.remove(os.path.join(TEST_FOLDER, 'labels', file))"
   ]
  },
  {
   "cell_type": "code",
   "execution_count": 2,
   "metadata": {},
   "outputs": [
    {
     "name": "stderr",
     "output_type": "stream",
     "text": [
      "Traceback (most recent call last):\n",
      "  File \"d:\\CSU\\My-Courses\\Fall 2022\\CS 545 - Machine Learning\\Project\\license-plate\\yolov5-license-plate\\train.py\", line 55, in <module>\n",
      "    from utils.loggers import Loggers\n",
      "  File \"d:\\CSU\\My-Courses\\Fall 2022\\CS 545 - Machine Learning\\Project\\license-plate\\yolov5-license-plate\\utils\\loggers\\__init__.py\", line 12, in <module>\n",
      "    from torch.utils.tensorboard import SummaryWriter\n",
      "  File \"c:\\Users\\tanji\\anaconda3\\lib\\site-packages\\torch\\utils\\tensorboard\\__init__.py\", line 12, in <module>\n",
      "    from .writer import FileWriter, SummaryWriter  # noqa: F401\n",
      "  File \"c:\\Users\\tanji\\anaconda3\\lib\\site-packages\\torch\\utils\\tensorboard\\writer.py\", line 9, in <module>\n",
      "    from tensorboard.compat.proto.event_pb2 import SessionLog\n",
      "  File \"c:\\Users\\tanji\\anaconda3\\lib\\site-packages\\tensorboard\\compat\\proto\\event_pb2.py\", line 17, in <module>\n",
      "    from tensorboard.compat.proto import summary_pb2 as tensorboard_dot_compat_dot_proto_dot_summary__pb2\n",
      "  File \"c:\\Users\\tanji\\anaconda3\\lib\\site-packages\\tensorboard\\compat\\proto\\summary_pb2.py\", line 17, in <module>\n",
      "    from tensorboard.compat.proto import histogram_pb2 as tensorboard_dot_compat_dot_proto_dot_histogram__pb2\n",
      "  File \"c:\\Users\\tanji\\anaconda3\\lib\\site-packages\\tensorboard\\compat\\proto\\histogram_pb2.py\", line 36, in <module>\n",
      "    _descriptor.FieldDescriptor(\n",
      "  File \"c:\\Users\\tanji\\anaconda3\\lib\\site-packages\\google\\protobuf\\descriptor.py\", line 544, in __new__\n",
      "    _message.Message._CheckCalledFromGeneratedFile()\n",
      "TypeError: Descriptors cannot be created directly.\n",
      "If this call came from a _pb2.py file, your generated code is out of date and must be regenerated with protoc >= 3.19.0.\n",
      "If you cannot immediately regenerate your protos, some other possible workarounds are:\n",
      " 1. Downgrade the protobuf package to 3.20.x or lower.\n",
      " 2. Set PROTOCOL_BUFFERS_PYTHON_IMPLEMENTATION=python (but this will use pure-Python parsing and will be much slower).\n",
      "\n",
      "More information: https://developers.google.com/protocol-buffers/docs/news/2022-05-06#python-updates\n"
     ]
    }
   ],
   "source": [
    "!cd yolov5-license-plate && python train.py --batch 16 --epochs 50 --data dataset.yml --weights yolov5s.pt --workers 2"
   ]
  },
  {
   "cell_type": "code",
   "execution_count": 1,
   "metadata": {},
   "outputs": [
    {
     "name": "stderr",
     "output_type": "stream",
     "text": [
      "Using cache found in C:\\Users\\tanji/.cache\\torch\\hub\\ultralytics_yolov5_master\n",
      "WARNING  'ultralytics.yolo.v8' is deprecated since '8.0.136' and will be removed in '8.1.0'. Please use 'ultralytics.models.yolo' instead.\n",
      "WARNING  'ultralytics.yolo.utils' is deprecated since '8.0.136' and will be removed in '8.1.0'. Please use 'ultralytics.utils' instead.\n",
      "Note this warning may be related to loading older models. You can update your model to current structure with:\n",
      "    import torch\n",
      "    ckpt = torch.load(\"model.pt\")  # applies to both official and custom models\n",
      "    torch.save(ckpt, \"updated-model.pt\")\n",
      "\n",
      "YOLOv5  2023-7-21 Python-3.9.13 torch-2.1.0.dev20230502+cu118 CUDA:0 (NVIDIA GeForce RTX 3070 Ti Laptop GPU, 8192MiB)\n",
      "\n",
      "Fusing layers... \n",
      "Model summary: 157 layers, 7012822 parameters, 0 gradients, 15.8 GFLOPs\n",
      "Adding AutoShape... \n"
     ]
    }
   ],
   "source": [
    "import torch\n",
    "\n",
    "best_trained_model = torch.hub.load('ultralytics/yolov5', 'custom', path = 'yolov5-license-plate/runs/train/exp/weights/best.pt')"
   ]
  },
  {
   "cell_type": "code",
   "execution_count": 2,
   "metadata": {},
   "outputs": [],
   "source": [
    "import cv2\n",
    "import numpy as np\n",
    "\n",
    "def preprocess_image(img):\n",
    "    converted = cv2.cvtColor(img, cv2.COLOR_BGR2GRAY)\n",
    "    blur = cv2.bilateralFilter(converted, 11, 17, 17)\n",
    "    inverted = cv2.bitwise_not(blur)\n",
    "    threshold = cv2.threshold(inverted, 0, 255, cv2.THRESH_BINARY + cv2.THRESH_OTSU)[1]\n",
    "\n",
    "    # Morph open to remove noise and invert image\n",
    "    kernel = cv2.getStructuringElement(cv2.MORPH_RECT, (3, 3))\n",
    "    opening = cv2.morphologyEx(threshold, cv2.MORPH_OPEN, kernel, iterations=1)\n",
    "    invert = 255 - opening\n",
    "\n",
    "    return threshold"
   ]
  },
  {
   "cell_type": "code",
   "execution_count": 19,
   "metadata": {},
   "outputs": [],
   "source": [
    "import math\n",
    "\n",
    "def get_region_of_interest(image):\n",
    "    results = best_trained_model(image) # .xyxy[0]\n",
    "\n",
    "    print(results)\n",
    "\n",
    "    results = results.xyxy[0]\n",
    "\n",
    "    roi = None\n",
    "\n",
    "    if results.any():\n",
    "        bounded_box = results[0].cpu().numpy()\n",
    "        \n",
    "        xmin = int(bounded_box[0])\n",
    "        xmax = int(bounded_box[2])\n",
    "        ymin = math.ceil(bounded_box[1])\n",
    "        ymax = math.ceil(bounded_box[3])\n",
    "\n",
    "        roi = image[ymin : ymax , xmin : xmax]\n",
    "    \n",
    "    return roi"
   ]
  },
  {
   "cell_type": "code",
   "execution_count": 20,
   "metadata": {},
   "outputs": [],
   "source": [
    "import easyocr\n",
    "\n",
    "reader = easyocr.Reader(['en'], gpu=True)\n",
    "\n",
    "def narrow_down_region_of_interest(roi):    \n",
    "    preprocessed_roi = preprocess_image(roi)\n",
    "        \n",
    "    ocr_results = reader.readtext(preprocessed_roi)\n",
    "\n",
    "    narrowed_down_roi = None\n",
    "\n",
    "    for ocr_result in ocr_results:\n",
    "        image_area = roi.shape[0] * roi.shape[1]\n",
    "\n",
    "        bounded_box_points = ocr_result[0]\n",
    "\n",
    "        xmin = int(bounded_box_points[0][0])\n",
    "        ymin = int(bounded_box_points[1][1])\n",
    "        xmax = math.ceil(bounded_box_points[1][0])\n",
    "        ymax = math.ceil(bounded_box_points[2][1])\n",
    "\n",
    "        bounded_box_area = (xmax - xmin) * (ymax - ymin)\n",
    "\n",
    "        if bounded_box_area / image_area >= 0.3:\n",
    "            narrowed_down_roi = roi[ymin : ymax, xmin : xmax]\n",
    "\n",
    "    return narrowed_down_roi"
   ]
  },
  {
   "cell_type": "code",
   "execution_count": 21,
   "metadata": {},
   "outputs": [],
   "source": [
    "def contour_detection(narrowed_down_roi):\n",
    "    preprocessed_nd_roi = preprocess_image(narrowed_down_roi)\n",
    "    contours, _ = cv2.findContours(preprocessed_nd_roi, cv2.RETR_EXTERNAL, cv2.CHAIN_APPROX_SIMPLE)\n",
    "    sorted_contours = sorted(contours, key = cv2.contourArea, reverse=True)\n",
    "\n",
    "    filtered_contours = []\n",
    "\n",
    "    for sorted_contour in sorted_contours:\n",
    "        image_h, image_w = preprocessed_nd_roi.shape[0], preprocessed_nd_roi.shape[1]\n",
    "\n",
    "        x, y, w, h = cv2.boundingRect(sorted_contour)\n",
    "\n",
    "        if x - 3 < 0 or y - 3 < 0: # disregard outer box contour\n",
    "            continue\n",
    "\n",
    "        if h / image_h < 0.5 or h / image_h > 0.95: # disregard very small and very large contours\n",
    "            continue\n",
    "        \n",
    "        filtered_contours.append(sorted_contour)\n",
    "\n",
    "    return sorted(filtered_contours, key=lambda x : cv2.boundingRect(x)[0])"
   ]
  },
  {
   "cell_type": "code",
   "execution_count": 22,
   "metadata": {},
   "outputs": [],
   "source": [
    "import shutil\n",
    "\n",
    "def extract_characters(narrowed_down_roi):\n",
    "    contours = contour_detection(narrowed_down_roi)\n",
    "\n",
    "    temp_dir = os.path.join('temp')\n",
    "\n",
    "    if not os.path.exists(temp_dir):\n",
    "        os.makedirs(temp_dir)\n",
    "\n",
    "    for index, contour in enumerate(contours):\n",
    "        x, y, w, h = cv2.boundingRect(contour)\n",
    "        character_image = narrowed_down_roi[y - 1 : y + h + 1, x - 1 : x + w + 1] # buffer space\n",
    "        resized_character_image = cv2.resize(character_image, (28, 28))\n",
    "        cv2.imwrite(f'temp/{index}.png', character_image)\n",
    "\n",
    "    characters = []\n",
    "\n",
    "    for c in os.listdir(temp_dir):\n",
    "        cimg = cv2.imread(os.path.join(temp_dir, c))\n",
    "        preprocessed_img = preprocess_image(cimg)\n",
    "        results = reader.readtext(preprocessed_img)\n",
    "        \n",
    "        if results:\n",
    "            characters.append(results[0][1])\n",
    "\n",
    "    shutil.rmtree(temp_dir)\n",
    "\n",
    "    return ''.join(characters)"
   ]
  },
  {
   "cell_type": "code",
   "execution_count": 23,
   "metadata": {},
   "outputs": [],
   "source": [
    "def clean_output(output_license_plate):\n",
    "    alphanumeric_license_plate = ''.join([c for c in output_license_plate if c.isalnum()])\n",
    "    return alphanumeric_license_plate.upper()"
   ]
  },
  {
   "cell_type": "code",
   "execution_count": 24,
   "metadata": {},
   "outputs": [],
   "source": [
    "import csv\n",
    "import uuid\n",
    "\n",
    "def save_license_plate_information(license_plate_number, license_plate_image):\n",
    "    folder = os.path.join('Detection-Results')\n",
    "\n",
    "    image_name = f'{uuid.uuid1()}.jpg'\n",
    "\n",
    "    segmentation_plate_number = license_plate_number[0]\n",
    "    whole_plate_number = license_plate_number[1]\n",
    "\n",
    "    if not os.path.exists(folder):\n",
    "        os.makedirs(folder)\n",
    "\n",
    "    if os.path.exists(os.path.join('detections.csv')) is False:\n",
    "        with open('detections.csv', 'a') as f:\n",
    "            csv_writer = csv.writer(f, delimiter=',', quotechar='\"', quoting=csv.QUOTE_MINIMAL)\n",
    "            csv_writer.writerow(['Image Name', 'Character Segmentation Recognition', 'Whole Image Recognition'])    \n",
    "\n",
    "    if license_plate_number:\n",
    "        cv2.imwrite(os.path.join(folder, image_name), license_plate_image)\n",
    "\n",
    "        with open('detections.csv', 'a') as f:\n",
    "            csv_writer = csv.writer(f, delimiter=',', quotechar='\"', quoting=csv.QUOTE_MINIMAL)\n",
    "            csv_writer.writerow([image_name, segmentation_plate_number, whole_plate_number])"
   ]
  },
  {
   "cell_type": "code",
   "execution_count": 25,
   "metadata": {},
   "outputs": [],
   "source": [
    "from matplotlib import pyplot as plt\n",
    "%matplotlib inline\n",
    "\n",
    "def get_plate_number(input_image):\n",
    "    roi = get_region_of_interest(input_image)\n",
    "\n",
    "    if roi is not None:\n",
    "        \n",
    "        narrowed_down_roi = narrow_down_region_of_interest(roi)\n",
    "\n",
    "        if narrowed_down_roi is not None:\n",
    "            character_segmentation_plate_number = clean_output(extract_characters(narrowed_down_roi))\n",
    "\n",
    "            whole_image_results = reader.readtext(preprocess_image(narrowed_down_roi))\n",
    "\n",
    "            whole_image_plate_number = ''\n",
    "\n",
    "            if whole_image_results:\n",
    "                whole_image_plate_number = clean_output(whole_image_results[0][1])\n",
    "\n",
    "            save_license_plate_information((character_segmentation_plate_number, whole_image_plate_number), narrowed_down_roi)\n",
    "\n",
    "            return character_segmentation_plate_number, whole_image_plate_number, narrowed_down_roi\n",
    "        return '', '', None\n",
    "    return '', '', None"
   ]
  },
  {
   "cell_type": "code",
   "execution_count": null,
   "metadata": {},
   "outputs": [],
   "source": [
    "# import cv2\n",
    "# import numpy as np\n",
    "  \n",
    "# cap = cv2.VideoCapture('test.mp4')\n",
    "# # cap = cv2.VideoCapture(0)\n",
    "  \n",
    "# while cap.isOpened():\n",
    "#     ret, frame = cap.read()\n",
    "\n",
    "#     cs_plate_number, wi_plate_number, roi = get_plate_number(frame)\n",
    "\n",
    "#     if cs_plate_number == '' and wi_plate_number == '':\n",
    "#         cv2.imshow(\"License Plate Recognition\", frame)\n",
    "#     else:\n",
    "#         cv2.imshow(\"License Plate Recognition\", np.squeeze(best_trained_model(frame).render()))\n",
    "#         save_license_plate_information((cs_plate_number, wi_plate_number), roi)\n",
    "      \n",
    "#     if cv2.waitKey(1) & 0xFF == ord('q'):\n",
    "#         break\n",
    "  \n",
    "# cap.release()\n",
    "# cv2.destroyAllWindows()"
   ]
  },
  {
   "cell_type": "code",
   "execution_count": null,
   "metadata": {},
   "outputs": [],
   "source": [
    "import os\n",
    "\n",
    "input_image = cv2.imread('sample-test-car.png')\n",
    "print(get_plate_number(input_image)[1])"
   ]
  }
 ],
 "metadata": {
  "kernelspec": {
   "display_name": "Python 3 (ipykernel)",
   "language": "python",
   "name": "python3"
  },
  "language_info": {
   "codemirror_mode": {
    "name": "ipython",
    "version": 3
   },
   "file_extension": ".py",
   "mimetype": "text/x-python",
   "name": "python",
   "nbconvert_exporter": "python",
   "pygments_lexer": "ipython3",
   "version": "3.9.13"
  },
  "toc": {
   "base_numbering": 1,
   "nav_menu": {},
   "number_sections": true,
   "sideBar": true,
   "skip_h1_title": false,
   "title_cell": "Table of Contents",
   "title_sidebar": "Contents",
   "toc_cell": false,
   "toc_position": {},
   "toc_section_display": true,
   "toc_window_display": false
  },
  "vscode": {
   "interpreter": {
    "hash": "276b36899633141f9bb9c26855a2fb39641ac12e40325f80aabae73e8e8011d8"
   }
  }
 },
 "nbformat": 4,
 "nbformat_minor": 1
}
